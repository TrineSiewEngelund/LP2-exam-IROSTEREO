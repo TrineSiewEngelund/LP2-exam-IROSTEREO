{
 "cells": [
  {
   "cell_type": "markdown",
   "metadata": {},
   "source": [
    "# Profiling Irony and Stereotype Spreaders on Twitter\n",
    "### Language Processing 2\n",
    "##### Caroline Amalie Ørum-Hansen, Maja Mittag & Trine K. M. S. Engelund\n",
    "_______________\n",
    "\n",
    "# Baseline"
   ]
  },
  {
   "cell_type": "code",
   "execution_count": 1,
   "metadata": {},
   "outputs": [],
   "source": [
    "# import libraries\n",
    "from read_files import *\n",
    "import numpy as np\n",
    "from sklearn.svm import SVC\n",
    "from sklearn.feature_extraction.text import TfidfVectorizer\n",
    "from sklearn.pipeline import Pipeline\n",
    "from sklearn.model_selection import train_test_split\n",
    "from sklearn.metrics import accuracy_score\n",
    "from sklearn.feature_extraction.text import CountVectorizer\n",
    "import warnings\n",
    "warnings.filterwarnings(\"ignore\")"
   ]
  },
  {
   "cell_type": "code",
   "execution_count": 2,
   "metadata": {},
   "outputs": [],
   "source": [
    "# import data\n",
    "X, y = get_data()"
   ]
  },
  {
   "cell_type": "code",
   "execution_count": 3,
   "metadata": {},
   "outputs": [],
   "source": [
    "# join tweets to docs\n",
    "def tweets_to_doc(X):\n",
    "    docs = []\n",
    "    for user in X:\n",
    "        doc = ' '.join(user) # \n",
    "        doc = doc[:]\n",
    "        docs.append(doc)\n",
    "    return np.array(docs)\n",
    "\n",
    "X = tweets_to_doc(X)"
   ]
  },
  {
   "cell_type": "code",
   "execution_count": 4,
   "metadata": {},
   "outputs": [
    {
     "name": "stdout",
     "output_type": "stream",
     "text": [
      "Train shape:  (336,) Test shape:  (84,)\n"
     ]
    }
   ],
   "source": [
    "# split dataset in train and test\n",
    "X_train, x_test, Y_train, y_test = train_test_split(X, y, test_size=0.20, random_state=42)\n",
    "print(\"Train shape: \", X_train.shape, \"Test shape: \", x_test.shape)"
   ]
  },
  {
   "cell_type": "code",
   "execution_count": 5,
   "metadata": {},
   "outputs": [
    {
     "data": {
      "text/plain": [
       "Pipeline(steps=[('tfidf', CountVectorizer()), ('classifier', SVC())])"
      ]
     },
     "execution_count": 5,
     "metadata": {},
     "output_type": "execute_result"
    }
   ],
   "source": [
    "# initiate baseline pipeline \n",
    "pipe = Pipeline([\n",
    "    ('tfidf', CountVectorizer()), # compute features\n",
    "    ('classifier', SVC()), # run classifier\n",
    "])\n",
    "\n",
    "# train baseline\n",
    "pipe.fit(X_train, Y_train)"
   ]
  },
  {
   "cell_type": "code",
   "execution_count": 6,
   "metadata": {},
   "outputs": [
    {
     "name": "stdout",
     "output_type": "stream",
     "text": [
      "Train accuracy: 0.875\n",
      "Test accuracy: 0.8333333333333334\n"
     ]
    }
   ],
   "source": [
    "# accuracy\n",
    "print(\"Train accuracy:\", pipe.score(X_train,Y_train))\n",
    "print(\"Test accuracy:\", pipe.score(x_test,y_test))"
   ]
  }
 ],
 "metadata": {
  "interpreter": {
   "hash": "397704579725e15f5c7cb49fe5f0341eb7531c82d19f2c29d197e8b64ab5776b"
  },
  "kernelspec": {
   "display_name": "Python 3.9.7 64-bit",
   "language": "python",
   "name": "python3"
  },
  "language_info": {
   "codemirror_mode": {
    "name": "ipython",
    "version": 3
   },
   "file_extension": ".py",
   "mimetype": "text/x-python",
   "name": "python",
   "nbconvert_exporter": "python",
   "pygments_lexer": "ipython3",
   "version": "3.9.7"
  },
  "orig_nbformat": 4
 },
 "nbformat": 4,
 "nbformat_minor": 2
}
