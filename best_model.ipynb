{
 "cells": [
  {
   "cell_type": "markdown",
   "metadata": {},
   "source": [
    "# Profiling Irony and Stereotype Spreaders on Twitter\n",
    "### Language Processing 2\n",
    "##### Caroline Amalie Ørum-Hansen, Maja Mittag & Trine K. M. S. Engelund\n",
    "_______________\n",
    "\n",
    "# Best model"
   ]
  },
  {
   "cell_type": "markdown",
   "metadata": {},
   "source": [
    "### **Import functions and libraries**"
   ]
  },
  {
   "cell_type": "code",
   "execution_count": 1,
   "metadata": {},
   "outputs": [],
   "source": [
    "# import our custom functions\n",
    "from read_files import *\n",
    "from feature_tranformers import *\n",
    "\n",
    "# import libraries\n",
    "import numpy as np\n",
    "from sklearn.model_selection import train_test_split\n",
    "from sklearn.feature_extraction.text import TfidfVectorizer\n",
    "from sklearn.pipeline import Pipeline\n",
    "from sklearn.preprocessing import MaxAbsScaler\n",
    "from sklearn.feature_extraction.text import TfidfVectorizer\n",
    "from sklearn.pipeline import FeatureUnion\n",
    "from sklearn.ensemble import RandomForestClassifier\n",
    "import matplotlib.pyplot as plt\n",
    "from sklearn.metrics import plot_confusion_matrix"
   ]
  },
  {
   "cell_type": "markdown",
   "metadata": {},
   "source": [
    "### **Import data**\n",
    "\n",
    "We import the tweets (X) and the true labels (y), and replace the values in y with dummy values.\n",
    "\n",
    "0 = not ironic, 1 = ironic."
   ]
  },
  {
   "cell_type": "code",
   "execution_count": 2,
   "metadata": {},
   "outputs": [
    {
     "name": "stdout",
     "output_type": "stream",
     "text": [
      "(420, 200) (420,)\n"
     ]
    }
   ],
   "source": [
    "# import data\n",
    "X, y = get_data()\n",
    "y = np.where(y == 'NI', 0, 1) # place with dummy values\n",
    "\n",
    "print(X.shape, y.shape)"
   ]
  },
  {
   "cell_type": "markdown",
   "metadata": {},
   "source": [
    "### **Split data**\n",
    "\n",
    "We split data in 80% train and 20% test."
   ]
  },
  {
   "cell_type": "code",
   "execution_count": 3,
   "metadata": {},
   "outputs": [
    {
     "name": "stdout",
     "output_type": "stream",
     "text": [
      "Train shape:  (336, 200) Test shape:  (84, 200)\n"
     ]
    }
   ],
   "source": [
    "# split dataset in train and test\n",
    "X_train, x_test, Y_train, y_test = train_test_split(X, y, test_size=0.20, random_state=42)\n",
    "print(\"Train shape: \", X_train.shape, \"Test shape: \", x_test.shape)"
   ]
  },
  {
   "cell_type": "markdown",
   "metadata": {},
   "source": [
    "### **Features**\n",
    "\n",
    "**Author level features**"
   ]
  },
  {
   "cell_type": "code",
   "execution_count": 4,
   "metadata": {},
   "outputs": [
    {
     "data": {
      "text/plain": [
       "FeatureUnion(n_jobs=-1,\n",
       "             transformer_list=[('tfidf',\n",
       "                                TfidfVectorizer(max_df=0.9, min_df=0.01,\n",
       "                                                ngram_range=(1, 3))),\n",
       "                               ('TTR', TTR()), ('average_word', avg_word()),\n",
       "                               ('average_char', avg_char()),\n",
       "                               ('spongebob', spongebob())])"
      ]
     },
     "execution_count": 4,
     "metadata": {},
     "output_type": "execute_result"
    }
   ],
   "source": [
    "# FeatureUnion of features at author level\n",
    "author_features = [\n",
    "  ('tfidf', TfidfVectorizer(analyzer='word', # char n-grams\n",
    "                            ngram_range=(1,3), # use uni-, bi and trigrams\n",
    "                            max_df = 0.90, # ignore terms that appear in more than 90% of the documents\n",
    "                            min_df=0.01,)), # ignore terms that appear in less than 1% of the documents\n",
    "  ('TTR', TTR()), # type-token ratio / lexical diversity\n",
    "  ('average_word', avg_word()), # average word length\n",
    "  ('average_char', avg_char()), # average char length\n",
    "  ('spongebob', spongebob()) # Mocking Spongebob\n",
    "]\n",
    "\n",
    "author_features_combined = FeatureUnion(transformer_list=author_features, n_jobs=-1)\n",
    "author_features_combined"
   ]
  },
  {
   "cell_type": "code",
   "execution_count": 5,
   "metadata": {},
   "outputs": [],
   "source": [
    "# Pipeline for features at author level\n",
    "author_pipe = Pipeline([\n",
    "    ('preprocesser_author', preprocess()), # preprocess the tweets\n",
    "    ('features', author_features_combined) # compute features\n",
    "])"
   ]
  },
  {
   "cell_type": "markdown",
   "metadata": {},
   "source": [
    "**Tweet level features**"
   ]
  },
  {
   "cell_type": "code",
   "execution_count": 6,
   "metadata": {},
   "outputs": [
    {
     "data": {
      "text/plain": [
       "FeatureUnion(n_jobs=-1,\n",
       "             transformer_list=[('emoji_sentiment_diff', emoji_sentiment_diff()),\n",
       "                               ('sentiment_incongruity',\n",
       "                                sentiment_incongruity())])"
      ]
     },
     "execution_count": 6,
     "metadata": {},
     "output_type": "execute_result"
    }
   ],
   "source": [
    "# FeatureUnion of features at tweet level\n",
    "tweet_features = [\n",
    "  ('emoji_sentiment_diff', emoji_sentiment_diff()),\n",
    "  ('sentiment_incongruity', sentiment_incongruity())\n",
    "]\n",
    "\n",
    "tweet_features_combined = FeatureUnion(transformer_list=tweet_features, n_jobs=-1)\n",
    "tweet_features_combined"
   ]
  },
  {
   "cell_type": "code",
   "execution_count": 7,
   "metadata": {},
   "outputs": [],
   "source": [
    "# Pipeline for features at tweet level\n",
    "tweet_pipe = Pipeline([\n",
    "    ('preprocesser_tweet', empty2dot()), # preprocess the tweets\n",
    "    ('features', tweet_features_combined), # compute features\n",
    "])"
   ]
  },
  {
   "cell_type": "markdown",
   "metadata": {},
   "source": [
    "**Combine all features**"
   ]
  },
  {
   "cell_type": "code",
   "execution_count": 8,
   "metadata": {},
   "outputs": [
    {
     "data": {
      "text/plain": [
       "FeatureUnion(n_jobs=-1,\n",
       "             transformer_list=[('authors_features',\n",
       "                                Pipeline(steps=[('preprocesser_author',\n",
       "                                                 preprocess()),\n",
       "                                                ('features',\n",
       "                                                 FeatureUnion(n_jobs=-1,\n",
       "                                                              transformer_list=[('tfidf',\n",
       "                                                                                 TfidfVectorizer(max_df=0.9,\n",
       "                                                                                                 min_df=0.01,\n",
       "                                                                                                 ngram_range=(1,\n",
       "                                                                                                              3))),\n",
       "                                                                                ('TTR',\n",
       "                                                                                 TTR()),\n",
       "                                                                                ('average_word',\n",
       "                                                                                 avg_word()),\n",
       "                                                                                ('average_char',\n",
       "                                                                                 avg_char()),\n",
       "                                                                                ('spongebob',\n",
       "                                                                                 spongebob())]))])),\n",
       "                               ('tweet_features',\n",
       "                                Pipeline(steps=[('preprocesser_tweet',\n",
       "                                                 empty2dot()),\n",
       "                                                ('features',\n",
       "                                                 FeatureUnion(n_jobs=-1,\n",
       "                                                              transformer_list=[('emoji_sentiment_diff',\n",
       "                                                                                 emoji_sentiment_diff()),\n",
       "                                                                                ('sentiment_incongruity',\n",
       "                                                                                 sentiment_incongruity())]))])),\n",
       "                               ('stylometric_counts', stylometric_counts())])"
      ]
     },
     "execution_count": 8,
     "metadata": {},
     "output_type": "execute_result"
    }
   ],
   "source": [
    "# combine all features\n",
    "all_features = FeatureUnion(\n",
    "    [\n",
    "    ('authors_features', author_pipe), # features at author level\n",
    "    ('tweet_features', tweet_pipe), # features at tweet level\n",
    "    ('stylometric_counts', stylometric_counts()) # stylistic counts (also at author level)\n",
    "    ],\n",
    "    n_jobs=-1)\n",
    "all_features"
   ]
  },
  {
   "cell_type": "markdown",
   "metadata": {},
   "source": [
    "### **Pipeline**\n",
    "\n",
    "**Initialize pipeline**"
   ]
  },
  {
   "cell_type": "code",
   "execution_count": 9,
   "metadata": {},
   "outputs": [
    {
     "data": {
      "text/plain": [
       "Pipeline(steps=[('features',\n",
       "                 FeatureUnion(n_jobs=-1,\n",
       "                              transformer_list=[('authors_features',\n",
       "                                                 Pipeline(steps=[('preprocesser_author',\n",
       "                                                                  preprocess()),\n",
       "                                                                 ('features',\n",
       "                                                                  FeatureUnion(n_jobs=-1,\n",
       "                                                                               transformer_list=[('tfidf',\n",
       "                                                                                                  TfidfVectorizer(max_df=0.9,\n",
       "                                                                                                                  min_df=0.01,\n",
       "                                                                                                                  ngram_range=(1,\n",
       "                                                                                                                               3))),\n",
       "                                                                                                 ('TTR',\n",
       "                                                                                                  TTR()),\n",
       "                                                                                                 ('average_word',\n",
       "                                                                                                  avg_word()),\n",
       "                                                                                                 ('average_char',\n",
       "                                                                                                  avg_char()),\n",
       "                                                                                                 ('spongebob',\n",
       "                                                                                                  spon...\n",
       "                                                ('tweet_features',\n",
       "                                                 Pipeline(steps=[('preprocesser_tweet',\n",
       "                                                                  empty2dot()),\n",
       "                                                                 ('features',\n",
       "                                                                  FeatureUnion(n_jobs=-1,\n",
       "                                                                               transformer_list=[('emoji_sentiment_diff',\n",
       "                                                                                                  emoji_sentiment_diff()),\n",
       "                                                                                                 ('sentiment_incongruity',\n",
       "                                                                                                  sentiment_incongruity())]))])),\n",
       "                                                ('stylometric_counts',\n",
       "                                                 stylometric_counts())])),\n",
       "                ('scaler', MaxAbsScaler()),\n",
       "                ('classifier',\n",
       "                 RandomForestClassifier(n_estimators=300, n_jobs=-1))])"
      ]
     },
     "execution_count": 9,
     "metadata": {},
     "output_type": "execute_result"
    }
   ],
   "source": [
    "# initiate pipeline \n",
    "pipe = Pipeline([\n",
    "    ('features', all_features), # compute features\n",
    "    ('scaler', MaxAbsScaler()), # scale features\n",
    "    ('classifier', RandomForestClassifier(n_estimators=300, n_jobs=-1)), # run classifier\n",
    "])\n",
    "pipe"
   ]
  },
  {
   "cell_type": "markdown",
   "metadata": {},
   "source": [
    "**Fit pipeline**"
   ]
  },
  {
   "cell_type": "code",
   "execution_count": 10,
   "metadata": {},
   "outputs": [
    {
     "data": {
      "text/plain": [
       "Pipeline(steps=[('features',\n",
       "                 FeatureUnion(n_jobs=-1,\n",
       "                              transformer_list=[('authors_features',\n",
       "                                                 Pipeline(steps=[('preprocesser_author',\n",
       "                                                                  preprocess()),\n",
       "                                                                 ('features',\n",
       "                                                                  FeatureUnion(n_jobs=-1,\n",
       "                                                                               transformer_list=[('tfidf',\n",
       "                                                                                                  TfidfVectorizer(max_df=0.9,\n",
       "                                                                                                                  min_df=0.01,\n",
       "                                                                                                                  ngram_range=(1,\n",
       "                                                                                                                               3))),\n",
       "                                                                                                 ('TTR',\n",
       "                                                                                                  TTR()),\n",
       "                                                                                                 ('average_word',\n",
       "                                                                                                  avg_word()),\n",
       "                                                                                                 ('average_char',\n",
       "                                                                                                  avg_char()),\n",
       "                                                                                                 ('spongebob',\n",
       "                                                                                                  spon...\n",
       "                                                ('tweet_features',\n",
       "                                                 Pipeline(steps=[('preprocesser_tweet',\n",
       "                                                                  empty2dot()),\n",
       "                                                                 ('features',\n",
       "                                                                  FeatureUnion(n_jobs=-1,\n",
       "                                                                               transformer_list=[('emoji_sentiment_diff',\n",
       "                                                                                                  emoji_sentiment_diff()),\n",
       "                                                                                                 ('sentiment_incongruity',\n",
       "                                                                                                  sentiment_incongruity())]))])),\n",
       "                                                ('stylometric_counts',\n",
       "                                                 stylometric_counts())])),\n",
       "                ('scaler', MaxAbsScaler()),\n",
       "                ('classifier',\n",
       "                 RandomForestClassifier(n_estimators=300, n_jobs=-1))])"
      ]
     },
     "execution_count": 10,
     "metadata": {},
     "output_type": "execute_result"
    }
   ],
   "source": [
    "pipe.fit(X_train, Y_train)"
   ]
  },
  {
   "cell_type": "markdown",
   "metadata": {},
   "source": [
    "### **Results**\n",
    "\n",
    "**Accuracy**"
   ]
  },
  {
   "cell_type": "code",
   "execution_count": 11,
   "metadata": {},
   "outputs": [
    {
     "name": "stdout",
     "output_type": "stream",
     "text": [
      "Train accuracy: 1.0\n",
      "Test accuracy: 0.8928571428571429\n"
     ]
    }
   ],
   "source": [
    "print(\"Train accuracy:\", pipe.score(X_train,Y_train))\n",
    "print(\"Test accuracy:\", pipe.score(x_test,y_test))"
   ]
  },
  {
   "cell_type": "markdown",
   "metadata": {},
   "source": [
    "**Predictions**"
   ]
  },
  {
   "cell_type": "code",
   "execution_count": 12,
   "metadata": {},
   "outputs": [
    {
     "data": {
      "text/plain": [
       "array([1, 0, 0, 1, 0, 1, 1, 1, 0, 0, 0, 0, 0, 0, 1, 0, 0, 0, 1, 1, 1, 0,\n",
       "       1, 0, 0, 0, 0, 0, 0, 0, 1, 0, 1, 0, 1, 0, 1, 0, 0, 1, 0, 0, 1, 0,\n",
       "       0, 1, 1, 0, 1, 0, 1, 0, 0, 0, 1, 0, 1, 1, 1, 0, 1, 0, 1, 1, 1, 1,\n",
       "       0, 1, 1, 0, 1, 0, 0, 1, 0, 0, 1, 0, 0, 0, 0, 1, 1, 1])"
      ]
     },
     "execution_count": 12,
     "metadata": {},
     "output_type": "execute_result"
    }
   ],
   "source": [
    "# true labels on test set\n",
    "y_test"
   ]
  },
  {
   "cell_type": "code",
   "execution_count": 13,
   "metadata": {},
   "outputs": [
    {
     "data": {
      "text/plain": [
       "array([1, 0, 0, 1, 0, 1, 1, 1, 0, 0, 1, 1, 0, 0, 1, 0, 0, 0, 1, 1, 1, 0,\n",
       "       1, 1, 0, 0, 0, 0, 0, 0, 1, 0, 1, 0, 1, 0, 1, 0, 1, 1, 0, 0, 1, 0,\n",
       "       0, 1, 1, 0, 1, 0, 1, 0, 0, 0, 1, 0, 1, 1, 1, 0, 1, 0, 1, 1, 0, 1,\n",
       "       1, 1, 1, 1, 1, 0, 0, 1, 1, 0, 1, 1, 0, 0, 0, 1, 1, 1])"
      ]
     },
     "execution_count": 13,
     "metadata": {},
     "output_type": "execute_result"
    }
   ],
   "source": [
    "# predicted labels on test set\n",
    "y_pred = pipe.predict(x_test)\n",
    "y_pred\n"
   ]
  },
  {
   "cell_type": "markdown",
   "metadata": {},
   "source": [
    "**Plot**"
   ]
  },
  {
   "cell_type": "code",
   "execution_count": 14,
   "metadata": {},
   "outputs": [
    {
     "name": "stderr",
     "output_type": "stream",
     "text": [
      "/Library/Frameworks/Python.framework/Versions/3.9/lib/python3.9/site-packages/sklearn/utils/deprecation.py:87: FutureWarning: Function plot_confusion_matrix is deprecated; Function `plot_confusion_matrix` is deprecated in 1.0 and will be removed in 1.2. Use one of the class methods: ConfusionMatrixDisplay.from_predictions or ConfusionMatrixDisplay.from_estimator.\n",
      "  warnings.warn(msg, category=FutureWarning)\n"
     ]
    },
    {
     "data": {
      "image/png": "[encoded data removed]",
      "text/plain": [
       "<Figure size 432x288 with 2 Axes>"
      ]
     },
     "metadata": {
      "needs_background": "light"
     },
     "output_type": "display_data"
    }
   ],
   "source": [
    "plot_confusion_matrix(pipe, x_test, y_test, cmap='Blues', normalize='true')\n",
    "plt.show()"
   ]
  }
 ],
 "metadata": {
  "interpreter": {
   "hash": "397704579725e15f5c7cb49fe5f0341eb7531c82d19f2c29d197e8b64ab5776b"
  },
  "kernelspec": {
   "display_name": "Python 3.9.7 64-bit",
   "language": "python",
   "name": "python3"
  },
  "language_info": {
   "codemirror_mode": {
    "name": "ipython",
    "version": 3
   },
   "file_extension": ".py",
   "mimetype": "text/x-python",
   "name": "python",
   "nbconvert_exporter": "python",
   "pygments_lexer": "ipython3",
   "version": "3.9.7"
  },
  "orig_nbformat": 4
 },
 "nbformat": 4,
 "nbformat_minor": 2
}
